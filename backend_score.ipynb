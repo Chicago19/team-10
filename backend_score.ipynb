{
 "cells": [
  {
   "cell_type": "code",
   "execution_count": 28,
   "metadata": {},
   "outputs": [],
   "source": [
    "import psycopg2"
   ]
  },
  {
   "cell_type": "code",
   "execution_count": 29,
   "metadata": {},
   "outputs": [],
   "source": [
    "class backend_score():\n",
    "    def __init__(self,user,password,host,port,database):\n",
    "    #self.connection = None\n",
    "    #self.cursor = None\n",
    "        self.user = user\n",
    "        self.password = password\n",
    "        self.host = host\n",
    "        self.port = port\n",
    "        self.database = database\n",
    "    \n",
    "    def connect_to_database(self):\n",
    "        try:\n",
    "            connection = psycopg2.connect(user=self.user,\n",
    "                                         password=self.password,\n",
    "                                         host=self.host,\n",
    "                                         port=self.port,\n",
    "                                         database=self.database)\n",
    "            cursor = connection.cursor()\n",
    "            #print(connection.get_dsn_parameters(),\"\\n\")\n",
    "\n",
    "            cursor.execute(\"SELECT version();\")\n",
    "            record = cursor.fetchone()\n",
    "            #print(\"You are connected to -\",record,\"\\n\")\n",
    "            return connection\n",
    "        except (Exception,psycopg2.Error) as error:\n",
    "            print(\"Error while connecting to PostgreSQL\", error)\n",
    "    def write_class_score(self,email,class_name,class_year,class_semester,score):\n",
    "        connection = self.connect_to_database()\n",
    "        cursor = connection.cursor()\n",
    "        try:\n",
    "            cursor.execute(\"INSERT INTO class(email,class_name,class_year,class_semester,score) VALUES(%s,%s,%s,%s,%s)\",(email,class_name,class_year,class_semester,score))\n",
    "            connection.commit()\n",
    "            return True\n",
    "        except (Exception,psycopg2.Error) as error:\n",
    "            print(error)\n",
    "            return False\n",
    "        finally:\n",
    "            self.close_connection(connection,cursor)\n",
    "    def update_score(self,email,class_name,class_year,class_semester,score):\n",
    "        connection = self.connect_to_database()\n",
    "        cursor = connection.cursor()\n",
    "        try:\n",
    "            cursor.execute(\"UPDATE class SET score=%s WHERE email=%s AND class_name=%s AND class_year=%s AND class_semester=%s;\",(score,email,class_name,class_year,class_semester))\n",
    "            connection.commit()\n",
    "            return True\n",
    "        except (Exception,psycopg2.Error) as error:\n",
    "            print(error)\n",
    "            return False\n",
    "        finally:\n",
    "            self.close_connection(connection,cursor)\n",
    "    def view_class_score(self,email,class_name,class_year,class_semester):\n",
    "        connection = self.connect_to_database()\n",
    "        cursor = connection.cursor()\n",
    "        try:\n",
    "            cursor.execute(\"SELECT score from class where email=%s AND class_name=%s AND class_semester=%s\",(email,class_name,class_semester))\n",
    "            record = cursor.fetchone()\n",
    "            if record == None:\n",
    "                return 0\n",
    "            if len(record) > 0:\n",
    "                return record[0]\n",
    "            return 0\n",
    "        except (Exception,psycopg2.Error) as error:\n",
    "            print(error)\n",
    "            return -1\n",
    "        finally:\n",
    "            self.close_connection(connection,cursor)\n",
    "            \n",
    "    def close_connection(self,connection,cursor):\n",
    "        if (connection):\n",
    "            cursor.close()\n",
    "            connection.close()\n"
   ]
  },
  {
   "cell_type": "code",
   "execution_count": 34,
   "metadata": {},
   "outputs": [],
   "source": [
    "#bd = backend_score('postgres','940728','localhost','5432','cfg_10')"
   ]
  },
  {
   "cell_type": "code",
   "execution_count": 35,
   "metadata": {},
   "outputs": [],
   "source": [
    "#bd.write_class_score('1234@illinois.edu','Intro In English','2019','spring',10)"
   ]
  },
  {
   "cell_type": "code",
   "execution_count": 36,
   "metadata": {},
   "outputs": [],
   "source": [
    "#bd.update_score('1234@illinois.edu','Intro In English','2019','spring',10)"
   ]
  },
  {
   "cell_type": "code",
   "execution_count": 37,
   "metadata": {},
   "outputs": [],
   "source": [
    "#bd.view_class_score('1234@illinois.edu','Intro In English','2019','spring')"
   ]
  },
  {
   "cell_type": "code",
   "execution_count": null,
   "metadata": {},
   "outputs": [],
   "source": []
  }
 ],
 "metadata": {
  "kernelspec": {
   "display_name": "Python 3",
   "language": "python",
   "name": "python3"
  },
  "language_info": {
   "codemirror_mode": {
    "name": "ipython",
    "version": 3
   },
   "file_extension": ".py",
   "mimetype": "text/x-python",
   "name": "python",
   "nbconvert_exporter": "python",
   "pygments_lexer": "ipython3",
   "version": "3.7.3"
  }
 },
 "nbformat": 4,
 "nbformat_minor": 2
}

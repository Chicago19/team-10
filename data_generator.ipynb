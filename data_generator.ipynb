{
 "cells": [
  {
   "cell_type": "code",
   "execution_count": 27,
   "metadata": {},
   "outputs": [],
   "source": [
    "from backend.backend_profile import backend_profile\n",
    "from backend.backend_official import backend_official\n",
    "from backend.backend_score import backend_score\n",
    "from faker import Faker\n",
    "import random"
   ]
  },
  {
   "cell_type": "code",
   "execution_count": 30,
   "metadata": {},
   "outputs": [],
   "source": [
    "\n",
    "def generate_data(n):\n",
    "    fake = Faker()\n",
    "    bd = backend_profile('postgres','940728','localhost','5432','cfg_10')\n",
    "    bo = backend_official('postgres','940728','localhost','5432','cfg_10')\n",
    "    bs = backend_score('postgres','940728','localhost','5432','cfg_10')\n",
    "    for i in range(n):\n",
    "        profile = dict()\n",
    "        profile['name'] = fake.name()\n",
    "        profile['phone'] = fake.phone_number()[:12]\n",
    "        profile['email'] = fake.ascii_email()\n",
    "        profile['referral'] = fake.name()\n",
    "        profile['age'] = random.randint(0,99)\n",
    "        profile['password'] = fake.ean13()\n",
    "        bd.insert_profile(profile)\n",
    "        bo.update_written_exam(profile['email'],random.randint(0,40),'Intro In English')\n",
    "        term = ['spring','summer','fall']\n",
    "        bs.write_class_score(profile['email'],'Intro In English',random.randint(2000,2019),term[random.randint(0,2)],10)\n",
    "        #print(profile)\n",
    "        "
   ]
  },
  {
   "cell_type": "code",
   "execution_count": 31,
   "metadata": {},
   "outputs": [],
   "source": [
    "generate_data(3)"
   ]
  },
  {
   "cell_type": "code",
   "execution_count": null,
   "metadata": {},
   "outputs": [],
   "source": []
  }
 ],
 "metadata": {
  "kernelspec": {
   "display_name": "Python 3",
   "language": "python",
   "name": "python3"
  },
  "language_info": {
   "codemirror_mode": {
    "name": "ipython",
    "version": 3
   },
   "file_extension": ".py",
   "mimetype": "text/x-python",
   "name": "python",
   "nbconvert_exporter": "python",
   "pygments_lexer": "ipython3",
   "version": "3.7.3"
  }
 },
 "nbformat": 4,
 "nbformat_minor": 2
}

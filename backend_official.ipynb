{
 "cells": [
  {
   "cell_type": "code",
   "execution_count": 6,
   "metadata": {},
   "outputs": [],
   "source": [
    "import psycopg2\n",
    "import datetime"
   ]
  },
  {
   "cell_type": "code",
   "execution_count": 25,
   "metadata": {},
   "outputs": [],
   "source": [
    "class backend_official():\n",
    "    def __init__(self,user,password,host,port,database):\n",
    "        #self.connection = None\n",
    "        #self.cursor = None\n",
    "        self.user = user\n",
    "        self.password = password\n",
    "        self.host = host\n",
    "        self.port = port\n",
    "        self.database = database\n",
    "        \n",
    "    def connect_to_database(self):\n",
    "        try:\n",
    "            connection = psycopg2.connect(user=self.user,\n",
    "                                         password=self.password,\n",
    "                                         host=self.host,\n",
    "                                         port=self.port,\n",
    "                                         database=self.database)\n",
    "            cursor = connection.cursor()\n",
    "            #print(connection.get_dsn_parameters(),\"\\n\")\n",
    "\n",
    "            cursor.execute(\"SELECT version();\")\n",
    "            record = cursor.fetchone()\n",
    "            #print(\"You are connected to -\",record,\"\\n\")\n",
    "            return connection\n",
    "        except (Exception,psycopg2.Error) as error:\n",
    "            print(\"Error while connecting to PostgreSQL\", error)\n",
    "    \n",
    "    def update_written_exam(self,email,written_score,level):\n",
    "\n",
    "        connection = self.connect_to_database()\n",
    "        cursor = connection.cursor()\n",
    "        try:\n",
    "            #cursor.execute(\"SELECT best_exam from official where email=%s\",(email,))\n",
    "            dt = datetime.datetime.now()\n",
    "            cursor.execute(\"SELECT best_exam FROM official WHERE email=%s;\",(email,))\n",
    "            record = cursor.fetchone()\n",
    "            best_score = int(record[0]) if record[0] is not None else 0\n",
    "            if written_score > best_score:\n",
    "                best_score = written_score\n",
    "            cursor.execute(\"UPDATE official SET written_score=%s,level=%s,test_date=%s,best_exam=%s WHERE email=%s\",(written_score,level,dt.strftime(\"%Y-%m-%d %H:%M\"),str(best_score),email))\n",
    "            connection.commit()\n",
    "            return True\n",
    "        except (Exception,psycopg2.Error) as error:\n",
    "            print(error)\n",
    "            return False\n",
    "        finally:\n",
    "            self.close_connection(connection,cursor)\n",
    "    def close_connection(self,connection,cursor):\n",
    "        if (connection):\n",
    "            cursor.close()\n",
    "            connection.close()"
   ]
  },
  {
   "cell_type": "code",
   "execution_count": 26,
   "metadata": {},
   "outputs": [],
   "source": [
    "#bd = backend_official('postgres','940728','localhost','5432','cfg_10')"
   ]
  },
  {
   "cell_type": "code",
   "execution_count": 27,
   "metadata": {},
   "outputs": [
    {
     "data": {
      "text/plain": [
       "True"
      ]
     },
     "execution_count": 27,
     "metadata": {},
     "output_type": "execute_result"
    }
   ],
   "source": [
    "#bd.update_written_exam('1234@illinois.edu',28,'Intro In English')"
   ]
  },
  {
   "cell_type": "code",
   "execution_count": null,
   "metadata": {},
   "outputs": [],
   "source": []
  },
  {
   "cell_type": "code",
   "execution_count": null,
   "metadata": {},
   "outputs": [],
   "source": []
  }
 ],
 "metadata": {
  "kernelspec": {
   "display_name": "Python 3",
   "language": "python",
   "name": "python3"
  },
  "language_info": {
   "codemirror_mode": {
    "name": "ipython",
    "version": 3
   },
   "file_extension": ".py",
   "mimetype": "text/x-python",
   "name": "python",
   "nbconvert_exporter": "python",
   "pygments_lexer": "ipython3",
   "version": "3.7.3"
  }
 },
 "nbformat": 4,
 "nbformat_minor": 2
}

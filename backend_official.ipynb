{
 "cells": [
  {
   "cell_type": "code",
   "execution_count": 1,
   "metadata": {},
   "outputs": [],
   "source": [
    "import psycopg2"
   ]
  },
  {
   "cell_type": "code",
   "execution_count": 2,
   "metadata": {},
   "outputs": [],
   "source": [
    "class backend_official():\n",
    "    def __init__(self,user,password,host,port,database):\n",
    "        #self.connection = None\n",
    "        #self.cursor = None\n",
    "        self.user = user\n",
    "        self.password = password\n",
    "        self.host = host\n",
    "        self.port = port\n",
    "        self.database = database\n",
    "        \n",
    "    def connect_to_database(self):\n",
    "    try:\n",
    "        connection = psycopg2.connect(user=self.user,\n",
    "                                     password=self.password,\n",
    "                                     host=self.host,\n",
    "                                     port=self.port,\n",
    "                                     database=self.database)\n",
    "        cursor = connection.cursor()\n",
    "        #print(connection.get_dsn_parameters(),\"\\n\")\n",
    "\n",
    "        cursor.execute(\"SELECT version();\")\n",
    "        record = cursor.fetchone()\n",
    "        #print(\"You are connected to -\",record,\"\\n\")\n",
    "        return connection\n",
    "    except (Exception,psycopg2.Error) as error:\n",
    "        print(\"Error while connecting to PostgreSQL\", error)\n",
    "    \n",
    "    def insert_profile(self,profile):\n",
    "\n",
    "        connection = self.connect_to_database()\n",
    "        cursor = connection.cursor()\n",
    "        try:\n",
    "            cursor.execute(\"INSERT INTO profile(name,email,referral,phone,password,age) VALUES(%s,%s,%s,%s,%s,%s)\",(profile[\"name\"],profile[\"email\"],profile[\"referral\"],profile[\"phone\"],profile[\"password\"],profile[\"age\"]))\n",
    "            connection.commit()\n",
    "            return True\n",
    "        except (Exception,psycopg2.Error) as error:\n",
    "            return False\n",
    "        finally:\n",
    "            self.close_connection(connection,cursor)\n",
    "    def close_connection(self,connection,cursor):\n",
    "    if (connection):\n",
    "        cursor.close()\n",
    "        connection.close()"
   ]
  },
  {
   "cell_type": "code",
   "execution_count": null,
   "metadata": {},
   "outputs": [],
   "source": []
  }
 ],
 "metadata": {
  "kernelspec": {
   "display_name": "Python 3",
   "language": "python",
   "name": "python3"
  },
  "language_info": {
   "codemirror_mode": {
    "name": "ipython",
    "version": 3
   },
   "file_extension": ".py",
   "mimetype": "text/x-python",
   "name": "python",
   "nbconvert_exporter": "python",
   "pygments_lexer": "ipython3",
   "version": "3.7.3"
  }
 },
 "nbformat": 4,
 "nbformat_minor": 2
}

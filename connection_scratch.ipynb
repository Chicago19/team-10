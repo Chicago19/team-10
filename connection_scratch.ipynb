{
 "cells": [
  {
   "cell_type": "code",
   "execution_count": 1,
   "metadata": {},
   "outputs": [],
   "source": [
    "import psycopg2"
   ]
  },
  {
   "cell_type": "code",
   "execution_count": 4,
   "metadata": {},
   "outputs": [],
   "source": [
    "class backend():\n",
    "    def __init__(self):\n",
    "        self.connection = None\n",
    "        self.cursor = None\n",
    "        \n",
    "    def connect_to_database(self,user,password,host,port,database):\n",
    "        try:\n",
    "            self.connection = psycopg2.connect(user=user,\n",
    "                                         password=password,\n",
    "                                         host=host,\n",
    "                                         port=port,\n",
    "                                         database=database)\n",
    "            self.cursor = self.connection.cursor()\n",
    "            print(self.connection.get_dsn_parameters(),\"\\n\")\n",
    "\n",
    "            self.cursor.execute(\"SELECT version();\")\n",
    "            record = self.cursor.fetchone()\n",
    "            print(\"You are connected to -\",record,\"\\n\")\n",
    "        except (Exception,psycopg2.Error) as error:\n",
    "            print(\"Error while connecting to PostgreSQL\", error)\n",
    "    \n",
    "    def close_connection(self):\n",
    "        if (self.connection):\n",
    "            self.cursor.close()\n",
    "            self.connection.close()\n",
    "            print(\"PostgreSQL connection is closed!\")\n",
    "            "
   ]
  },
  {
   "cell_type": "markdown",
   "metadata": {},
   "source": [
    "## Main"
   ]
  },
  {
   "cell_type": "code",
   "execution_count": 5,
   "metadata": {},
   "outputs": [],
   "source": [
    "bd = backend()"
   ]
  },
  {
   "cell_type": "code",
   "execution_count": 6,
   "metadata": {},
   "outputs": [
    {
     "name": "stdout",
     "output_type": "stream",
     "text": [
      "{'user': 'postgres', 'dbname': 'cfg_10', 'host': 'localhost', 'port': '5432', 'tty': '', 'options': '', 'sslmode': 'prefer', 'sslcompression': '0', 'krbsrvname': 'postgres', 'target_session_attrs': 'any'} \n",
      "\n",
      "You are connected to - ('PostgreSQL 11.5 on x86_64-apple-darwin, compiled by Apple LLVM version 6.0 (clang-600.0.54) (based on LLVM 3.5svn), 64-bit',) \n",
      "\n"
     ]
    }
   ],
   "source": [
    "bd.connect_to_database('postgres','940728','localhost','5432','cfg_10')"
   ]
  },
  {
   "cell_type": "code",
   "execution_count": null,
   "metadata": {},
   "outputs": [],
   "source": [
    "bd."
   ]
  }
 ],
 "metadata": {
  "kernelspec": {
   "display_name": "Python 3",
   "language": "python",
   "name": "python3"
  },
  "language_info": {
   "codemirror_mode": {
    "name": "ipython",
    "version": 3
   },
   "file_extension": ".py",
   "mimetype": "text/x-python",
   "name": "python",
   "nbconvert_exporter": "python",
   "pygments_lexer": "ipython3",
   "version": "3.7.3"
  }
 },
 "nbformat": 4,
 "nbformat_minor": 2
}

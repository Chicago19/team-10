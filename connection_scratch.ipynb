{
 "cells": [
  {
   "cell_type": "code",
   "execution_count": 118,
   "metadata": {},
   "outputs": [],
   "source": [
    "import psycopg2"
   ]
  },
  {
   "cell_type": "code",
   "execution_count": 219,
   "metadata": {},
   "outputs": [],
   "source": [
    "class backend():\n",
    "    def __init__(self,user,password,host,port,database):\n",
    "        #self.connection = None\n",
    "        #self.cursor = None\n",
    "        self.user = user\n",
    "        self.password = password\n",
    "        self.host = host\n",
    "        self.port = port\n",
    "        self.database = database\n",
    "    def connect_to_database(self):\n",
    "        try:\n",
    "            connection = psycopg2.connect(user=self.user,\n",
    "                                         password=self.password,\n",
    "                                         host=self.host,\n",
    "                                         port=self.port,\n",
    "                                         database=self.database)\n",
    "            cursor = connection.cursor()\n",
    "            #print(connection.get_dsn_parameters(),\"\\n\")\n",
    "\n",
    "            cursor.execute(\"SELECT version();\")\n",
    "            record = cursor.fetchone()\n",
    "            #print(\"You are connected to -\",record,\"\\n\")\n",
    "            return connection\n",
    "        except (Exception,psycopg2.Error) as error:\n",
    "            print(\"Error while connecting to PostgreSQL\", error)\n",
    "            \n",
    "    def insert_profile(self,profile):\n",
    "\n",
    "        connection = self.connect_to_database()\n",
    "        cursor = connection.cursor()\n",
    "        try:\n",
    "            cursor.execute(\"INSERT INTO profile(name,email,referral,phone,password,age) VALUES(%s,%s,%s,%s,%s,%s)\",(profile[\"name\"],profile[\"email\"],profile[\"referral\"],profile[\"phone\"],profile[\"password\"],profile[\"age\"]))\n",
    "            connection.commit()\n",
    "            return True\n",
    "        except (Exception,psycopg2.Error) as error:\n",
    "            return False\n",
    "        finally:\n",
    "            self.close_connection(connection,cursor)\n",
    "            \n",
    "    def __check_login_password(self,email,password):\n",
    "        try:\n",
    "            connection = self.connect_to_database()\n",
    "            cursor = connection.cursor()\n",
    "            command = \"SELECT password FROM profile WHERE email = %s;\"\n",
    "            cursor.execute(command, (email,))\n",
    "            db_pass = cursor.fetchone()\n",
    "            #print('herere')\n",
    "            #print(db_pass)\n",
    "            if db_pass == password:\n",
    "                return True\n",
    "            return False\n",
    "        except (Exception,psycopg2.Error) as error:\n",
    "            print(\"Error while checking login password\", error)\n",
    "            return False\n",
    "        finally:\n",
    "            self.close_connection(connection,cursor)\n",
    "            \n",
    "    def check_login_credential(self,email,password):\n",
    "        try:\n",
    "            connection = self.connect_to_database()\n",
    "            cursor = connection.cursor()\n",
    "            command = \"SELECT * FROM profile WHERE email = %s;\"\n",
    "            cursor.execute(command, (email,))\n",
    "                #mobile_records = \n",
    "            data = cursor.fetchall()\n",
    "            print(len(data))\n",
    "            if len(data) > 0:\n",
    "                return self.__check_login_password(email,password)\n",
    "        except (Exception,psycopg2.Error) as error:\n",
    "            print(\"Error while checking login email\", error)\n",
    "            return False\n",
    "        finally:\n",
    "            self.close_connection(connection,cursor)\n",
    "            \n",
    "    def check_email(self,email):\n",
    "        try:\n",
    "            connection = self.connect_to_database()\n",
    "            cursor = connection.cursor()\n",
    "            command = \"SELECT * FROM profile WHERE email = %s;\"\n",
    "            cursor.execute(command, (email,))\n",
    "            #mobile_records = \n",
    "            if len(cursor.fetchall()) > 0:\n",
    "                return True\n",
    "            return False\n",
    "        except (Exception,psycopg2.Error) as error:\n",
    "            print(\"Error while checking email\", error)\n",
    "            return True\n",
    "        finally:\n",
    "            self.close_connection(connection,cursor)\n",
    "    def close_connection(self,connection,cursor):\n",
    "        if (connection):\n",
    "            cursor.close()\n",
    "            connection.close()\n",
    "            #print(\"PostgreSQL connection is closed!\")\n",
    "            "
   ]
  },
  {
   "cell_type": "markdown",
   "metadata": {},
   "source": [
    "## Main"
   ]
  },
  {
   "cell_type": "code",
   "execution_count": 220,
   "metadata": {},
   "outputs": [],
   "source": [
    "bd = backend('postgres','940728','localhost','5432','cfg_10')"
   ]
  },
  {
   "cell_type": "code",
   "execution_count": null,
   "metadata": {},
   "outputs": [],
   "source": []
  },
  {
   "cell_type": "code",
   "execution_count": 221,
   "metadata": {},
   "outputs": [
    {
     "name": "stdout",
     "output_type": "stream",
     "text": [
      "False\n"
     ]
    }
   ],
   "source": [
    "profile = {'name':'Stanley Yang',\n",
    "          'email':'12@illinois.edu',\n",
    "          'referral':'Jimmy',\n",
    "          'phone':'2245672231',\n",
    "          'password':'123456',\n",
    "          'age':'42'}\n",
    "print(bd.insert_profile(profile))"
   ]
  },
  {
   "cell_type": "code",
   "execution_count": 222,
   "metadata": {},
   "outputs": [
    {
     "data": {
      "text/plain": [
       "True"
      ]
     },
     "execution_count": 222,
     "metadata": {},
     "output_type": "execute_result"
    }
   ],
   "source": [
    "\n",
    "bd.check_email('1234@illinois.edu')"
   ]
  },
  {
   "cell_type": "code",
   "execution_count": 223,
   "metadata": {},
   "outputs": [
    {
     "data": {
      "text/plain": [
       "False"
      ]
     },
     "execution_count": 223,
     "metadata": {},
     "output_type": "execute_result"
    }
   ],
   "source": [
    "\n",
    "bd.check_email('122@illinois.edu')"
   ]
  },
  {
   "cell_type": "code",
   "execution_count": 224,
   "metadata": {},
   "outputs": [
    {
     "name": "stdout",
     "output_type": "stream",
     "text": [
      "1\n",
      "herere\n",
      "('123456                                    ',)\n"
     ]
    },
    {
     "data": {
      "text/plain": [
       "False"
      ]
     },
     "execution_count": 224,
     "metadata": {},
     "output_type": "execute_result"
    }
   ],
   "source": [
    "bd.check_login_credential('12@illinois.edu','123456')"
   ]
  },
  {
   "cell_type": "code",
   "execution_count": null,
   "metadata": {},
   "outputs": [],
   "source": []
  }
 ],
 "metadata": {
  "kernelspec": {
   "display_name": "Python 3",
   "language": "python",
   "name": "python3"
  },
  "language_info": {
   "codemirror_mode": {
    "name": "ipython",
    "version": 3
   },
   "file_extension": ".py",
   "mimetype": "text/x-python",
   "name": "python",
   "nbconvert_exporter": "python",
   "pygments_lexer": "ipython3",
   "version": "3.7.3"
  }
 },
 "nbformat": 4,
 "nbformat_minor": 2
}
